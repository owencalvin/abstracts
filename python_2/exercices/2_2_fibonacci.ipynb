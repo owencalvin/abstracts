{
 "cells": [
  {
   "cell_type": "code",
   "execution_count": 81,
   "metadata": {},
   "outputs": [],
   "source": [
    "class IteratorFibonacci:\n",
    "    _i = 1\n",
    "    _previous = 1\n",
    "    _count = -1\n",
    "\n",
    "    def __init__(self, max: int = 1):\n",
    "        self._max = max\n",
    "\n",
    "    def __iter__(self):\n",
    "        return self\n",
    "\n",
    "    def __next__(self):\n",
    "        self._count += 1\n",
    "\n",
    "        if self._count == 0 or self._count == 1:\n",
    "            return self._i\n",
    "\n",
    "        temp = self._i\n",
    "        self._i = self._i + self._previous\n",
    "        self._previous = temp\n",
    "\n",
    "        if self._count >= self._max:\n",
    "            raise StopIteration\n",
    "\n",
    "        return self._i\n"
   ]
  },
  {
   "cell_type": "code",
   "execution_count": 82,
   "metadata": {},
   "outputs": [
    {
     "name": "stdout",
     "output_type": "stream",
     "text": [
      "1\n",
      "1\n",
      "2\n",
      "3\n",
      "5\n"
     ]
    }
   ],
   "source": [
    "for i in IteratorFibonacci(5):\n",
    "    print(i)"
   ]
  },
  {
   "cell_type": "code",
   "execution_count": 83,
   "metadata": {},
   "outputs": [],
   "source": [
    "class GeneratorFibonacci:\n",
    "    _i = 1\n",
    "    _previous = 1\n",
    "\n",
    "    def __init__(self, max: int = 1):\n",
    "        self._max = max\n",
    "\n",
    "    def __iter__(self):\n",
    "        for i in range(self._max):\n",
    "            if i in range(0, 1 + 1):\n",
    "                yield self._i\n",
    "            else:\n",
    "                temp = self._i\n",
    "                self._i = self._i + self._previous\n",
    "                self._previous = temp\n",
    "                yield self._i"
   ]
  },
  {
   "cell_type": "code",
   "execution_count": 84,
   "metadata": {},
   "outputs": [
    {
     "name": "stdout",
     "output_type": "stream",
     "text": [
      "1\n",
      "1\n",
      "2\n",
      "3\n",
      "5\n"
     ]
    }
   ],
   "source": [
    "for i in GeneratorFibonacci(5):\n",
    "    print(i)"
   ]
  }
 ],
 "metadata": {
  "interpreter": {
   "hash": "31f2aee4e71d21fbe5cf8b01ff0e069b9275f58929596ceb00d14d90e3e16cd6"
  },
  "kernelspec": {
   "display_name": "Python 3.8.9 64-bit",
   "language": "python",
   "name": "python3"
  },
  "language_info": {
   "codemirror_mode": {
    "name": "ipython",
    "version": 3
   },
   "file_extension": ".py",
   "mimetype": "text/x-python",
   "name": "python",
   "nbconvert_exporter": "python",
   "pygments_lexer": "ipython3",
   "version": "3.8.8"
  },
  "orig_nbformat": 4
 },
 "nbformat": 4,
 "nbformat_minor": 2
}
