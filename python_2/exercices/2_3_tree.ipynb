{
 "cells": [
  {
   "cell_type": "code",
   "execution_count": 4,
   "metadata": {},
   "outputs": [],
   "source": [
    "class Tree:\n",
    "    def __init__(self, name, left = None, right = None):\n",
    "        self.name = name\n",
    "        self.left = left\n",
    "        self.right = right\n",
    "    \n",
    "    def __iter__(self):\n",
    "        if self.left:\n",
    "            for i in self.left: \n",
    "                yield i\n",
    "\n",
    "        yield self\n",
    "\n",
    "        if self.right: \n",
    "            for i in self.right: \n",
    "                yield i\n",
    "    \n",
    "    def __str__(self):\n",
    "        return self.name"
   ]
  },
  {
   "cell_type": "code",
   "execution_count": 5,
   "metadata": {},
   "outputs": [],
   "source": [
    "t = Tree(\n",
    "    '0',\n",
    "    Tree (\n",
    "        'l',\n",
    "        Tree ('ll'),\n",
    "        Tree ('lr')\n",
    "    ),\n",
    "    Tree (\n",
    "        'r',\n",
    "        Tree (\n",
    "            'rl',\n",
    "            Tree ('rll'),\n",
    "            Tree ('rlr')\n",
    "        ),\n",
    "        Tree (\n",
    "            'rr',\n",
    "            Tree ('rrl'),\n",
    "            Tree ('rrr')\n",
    "        )\n",
    "    )\n",
    ")"
   ]
  },
  {
   "cell_type": "code",
   "execution_count": 6,
   "metadata": {},
   "outputs": [
    {
     "name": "stdout",
     "output_type": "stream",
     "text": [
      "ll\n",
      "l\n",
      "lr\n",
      "0\n",
      "rll\n",
      "rl\n",
      "rlr\n",
      "r\n",
      "rrl\n",
      "rr\n",
      "rrr\n"
     ]
    }
   ],
   "source": [
    "for i in t:\n",
    "    print(i)"
   ]
  }
 ],
 "metadata": {
  "interpreter": {
   "hash": "31f2aee4e71d21fbe5cf8b01ff0e069b9275f58929596ceb00d14d90e3e16cd6"
  },
  "kernelspec": {
   "display_name": "Python 3.8.9 64-bit",
   "language": "python",
   "name": "python3"
  },
  "language_info": {
   "codemirror_mode": {
    "name": "ipython",
    "version": 3
   },
   "file_extension": ".py",
   "mimetype": "text/x-python",
   "name": "python",
   "nbconvert_exporter": "python",
   "pygments_lexer": "ipython3",
   "version": "3.8.8"
  },
  "orig_nbformat": 4
 },
 "nbformat": 4,
 "nbformat_minor": 2
}
