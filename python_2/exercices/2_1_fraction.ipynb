{
 "cells": [
  {
   "cell_type": "code",
   "execution_count": 52,
   "metadata": {},
   "outputs": [],
   "source": [
    "class Fraction:\n",
    "    def pgdc(a, b):\n",
    "        while b:\n",
    "            a, b = b, a % b\n",
    "        return a\n",
    "\n",
    "    def __init__(self, numerator, denominator):\n",
    "        self.numerator = int(numerator / Fraction.pgdc(numerator, denominator))\n",
    "        self.denominator = int(denominator / Fraction.pgdc(numerator, denominator))\n",
    "    \n",
    "    def __str__(self):\n",
    "        return f\"{self.numerator} / {self.denominator}\"\n",
    "    \n",
    "    def __repr__(self):\n",
    "        return self.__str__()\n",
    "    \n",
    "    def __neg__(self):\n",
    "        return Fraction(-self.numerator, self.denominator)\n",
    "    \n",
    "    def __mul__(self, other):\n",
    "        return Fraction(\n",
    "            self.numerator * other.numerator,\n",
    "            self.denominator * other.denominator\n",
    "        )\n",
    "    \n",
    "    def __truediv__(self, other):\n",
    "        return Fraction(\n",
    "            self.numerator / other.numerator,\n",
    "            self.denominator / other.denominator\n",
    "        )\n",
    "\n",
    "    def __add__(self, other):\n",
    "        return Fraction(\n",
    "            self.numerator * other.denominator + self.denominator * other.numerator,\n",
    "            self.denominator * other.denominator\n",
    "        )\n",
    "\n",
    "    def __sub__(self, other):\n",
    "        return self.__add__(-other)"
   ]
  },
  {
   "cell_type": "code",
   "execution_count": 53,
   "metadata": {},
   "outputs": [
    {
     "data": {
      "text/plain": [
       "(1 / 2, -1 / 2, 5 / 4, -1 / 4, 3 / 8, 6004799503160661 / 9007199254740992)"
      ]
     },
     "execution_count": 53,
     "metadata": {},
     "output_type": "execute_result"
    }
   ],
   "source": [
    "f1 = Fraction(4, 8)\n",
    "f2 = Fraction(3, 4)\n",
    "\n",
    "(\n",
    "    f1,\n",
    "    -f1,\n",
    "    f1 + f2,\n",
    "    f1 - f2,\n",
    "    f1 * f2,\n",
    "    f1 / f2,\n",
    ")"
   ]
  }
 ],
 "metadata": {
  "interpreter": {
   "hash": "c630b349f7183e9a5f9274d889fc3e15c392ce12037771bccbc1917471fc634b"
  },
  "kernelspec": {
   "display_name": "Python 3.8.8 64-bit ('base': conda)",
   "language": "python",
   "name": "python3"
  },
  "language_info": {
   "codemirror_mode": {
    "name": "ipython",
    "version": 3
   },
   "file_extension": ".py",
   "mimetype": "text/x-python",
   "name": "python",
   "nbconvert_exporter": "python",
   "pygments_lexer": "ipython3",
   "version": "3.8.8"
  },
  "orig_nbformat": 4
 },
 "nbformat": 4,
 "nbformat_minor": 2
}
