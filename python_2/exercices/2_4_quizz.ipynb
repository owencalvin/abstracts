{
 "cells": [
  {
   "cell_type": "code",
   "execution_count": 67,
   "metadata": {},
   "outputs": [],
   "source": [
    "def quizz(questions):\n",
    "    for key in questions:\n",
    "        answer = yield key\n",
    "        if questions[key].lower() == answer.lower():\n",
    "            print(\"YES\")\n",
    "        else:\n",
    "            print(\"NO\")"
   ]
  },
  {
   "cell_type": "code",
   "execution_count": 68,
   "metadata": {},
   "outputs": [],
   "source": [
    "capitales = {\n",
    "    'Suisse': 'Berne',\n",
    "    'Allemagne': 'Berlin',\n",
    "    'Italie': 'Rome',\n",
    "    'France': 'Paris' \n",
    "}"
   ]
  },
  {
   "cell_type": "code",
   "execution_count": 69,
   "metadata": {},
   "outputs": [
    {
     "name": "stdout",
     "output_type": "stream",
     "text": [
      "YES\n",
      "YES\n",
      "NO\n",
      "NO\n"
     ]
    }
   ],
   "source": [
    "q = quizz(capitales)\n",
    "\n",
    "try:\n",
    "    c = next(q)\n",
    "    while True:\n",
    "        answer = input(f\"Capitale de: {c} ? \")\n",
    "        c = q.send(answer)\n",
    "except StopIteration:\n",
    "    pass"
   ]
  }
 ],
 "metadata": {
  "interpreter": {
   "hash": "c630b349f7183e9a5f9274d889fc3e15c392ce12037771bccbc1917471fc634b"
  },
  "kernelspec": {
   "display_name": "Python 3.8.8 64-bit ('base': conda)",
   "language": "python",
   "name": "python3"
  },
  "language_info": {
   "codemirror_mode": {
    "name": "ipython",
    "version": 3
   },
   "file_extension": ".py",
   "mimetype": "text/x-python",
   "name": "python",
   "nbconvert_exporter": "python",
   "pygments_lexer": "ipython3",
   "version": "3.8.8"
  },
  "orig_nbformat": 4
 },
 "nbformat": 4,
 "nbformat_minor": 2
}
