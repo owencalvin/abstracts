{
 "cells": [
  {
   "cell_type": "code",
   "execution_count": 1,
   "metadata": {},
   "outputs": [
    {
     "name": "stdout",
     "output_type": "stream",
     "text": [
      "hello\n"
     ]
    }
   ],
   "source": [
    "class Fraction:\n",
    "    _numerator: int\n",
    "    _denominator: int\n",
    "    _index: int = -1\n",
    "\n",
    "\n",
    "    @property\n",
    "    def numerator(self):\n",
    "        return self._numerator\n",
    "\n",
    "    @numerator.setter\n",
    "    def numerator(self, value):\n",
    "        self._numerator = value\n",
    "\n",
    "    @property\n",
    "    def denominator(self):\n",
    "        return self._denominator\n",
    "\n",
    "    @denominator.setter\n",
    "    def denominator(self, value):\n",
    "        self._denominator = value\n",
    "\n",
    "\n",
    "    def __init__(self, numerator: int, denominator: int = 1):\n",
    "        self.numerator = numerator\n",
    "        self.denominator = denominator\n",
    "        self.simplify()\n",
    "    \n",
    "    def __str__(self):\n",
    "        return f\"{self.numerator} / {self.denominator}\"\n",
    "    \n",
    "    def __neg__(self):\n",
    "        return Fraction(-self.numerator, self.denominator)\n",
    "    \n",
    "    def __add__(self, other):\n",
    "        return Fraction(\n",
    "            self.numerator * other.denominator + other.numerator * self.denominator,\n",
    "            self.denominator * other.denominator\n",
    "        )\n",
    "    \n",
    "    def __sub__(self, other):\n",
    "        return self.__add__(-other)\n",
    "    \n",
    "    def __mul__(self, other):\n",
    "        return Fraction(\n",
    "            self.numerator * other.numerator,\n",
    "            self.denominator * other.denominator\n",
    "        )\n",
    "    \n",
    "    def __repr__(self):\n",
    "        return self.__str__()\n",
    "    \n",
    "    def __iter__(self):\n",
    "        return self\n",
    "\n",
    "    def __next__(self):\n",
    "        self._index += 1\n",
    "\n",
    "        if self._index == 0:\n",
    "            return self.numerator\n",
    "        elif self._index == 1:\n",
    "            return self.denominator\n",
    "        else:\n",
    "            self._index = -1\n",
    "            raise StopIteration\n",
    "\n",
    "    def simplify(self):\n",
    "        pgdc = Fraction.pgdc(self.numerator, self.denominator)\n",
    "        self.numerator /= pgdc\n",
    "        self.denominator /= pgdc\n",
    "\n",
    "\n",
    "    def pgdc(a: int, b: int) -> int:\n",
    "        while b:\n",
    "            a,b = b, a % b\n",
    "        return a\n",
    "\n",
    "if __name__ == \"__main__\":\n",
    "    print(\"hello\")\n"
   ]
  },
  {
   "cell_type": "code",
   "execution_count": 2,
   "metadata": {},
   "outputs": [],
   "source": [
    "f1 = Fraction(4, 2)\n",
    "f2 = Fraction(4, 3)"
   ]
  },
  {
   "cell_type": "code",
   "execution_count": 3,
   "metadata": {},
   "outputs": [
    {
     "data": {
      "text/plain": [
       "-8.0 / 3.0"
      ]
     },
     "execution_count": 3,
     "metadata": {},
     "output_type": "execute_result"
    }
   ],
   "source": [
    "-(f1 * f2)"
   ]
  },
  {
   "cell_type": "code",
   "execution_count": 4,
   "metadata": {},
   "outputs": [
    {
     "data": {
      "text/plain": [
       "10.0 / 3.0"
      ]
     },
     "execution_count": 4,
     "metadata": {},
     "output_type": "execute_result"
    }
   ],
   "source": [
    "f1 + f2"
   ]
  },
  {
   "cell_type": "code",
   "execution_count": 5,
   "metadata": {},
   "outputs": [
    {
     "data": {
      "text/plain": [
       "2.0 / 3.0"
      ]
     },
     "execution_count": 5,
     "metadata": {},
     "output_type": "execute_result"
    }
   ],
   "source": [
    "f1 - f2"
   ]
  },
  {
   "cell_type": "code",
   "execution_count": 6,
   "metadata": {},
   "outputs": [
    {
     "name": "stdout",
     "output_type": "stream",
     "text": [
      "2.0\n",
      "1.0\n"
     ]
    }
   ],
   "source": [
    "for i in f1:\n",
    "    print(i)"
   ]
  }
 ],
 "metadata": {
  "interpreter": {
   "hash": "c630b349f7183e9a5f9274d889fc3e15c392ce12037771bccbc1917471fc634b"
  },
  "kernelspec": {
   "display_name": "Python 3.8.8 64-bit ('base': conda)",
   "name": "python3"
  },
  "language_info": {
   "codemirror_mode": {
    "name": "ipython",
    "version": 3
   },
   "file_extension": ".py",
   "mimetype": "text/x-python",
   "name": "python",
   "nbconvert_exporter": "python",
   "pygments_lexer": "ipython3",
   "version": "3.8.8"
  },
  "orig_nbformat": 4
 },
 "nbformat": 4,
 "nbformat_minor": 2
}
