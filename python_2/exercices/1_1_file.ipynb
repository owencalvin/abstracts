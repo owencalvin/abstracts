{
 "cells": [
  {
   "cell_type": "code",
   "execution_count": 46,
   "metadata": {},
   "outputs": [],
   "source": [
    "import re\n",
    "\n",
    "class File:\n",
    "    # Init\n",
    "    _path: str\n",
    "\n",
    "    def __init__(self, path: str):\n",
    "        self._path = path\n",
    "\n",
    "\n",
    "    # File reader\n",
    "    def _open(self):\n",
    "        return open(self._path, \"r\")\n",
    "\n",
    "    @property\n",
    "    def file(self):\n",
    "        return self._open()\n",
    "    \n",
    "    @file.deleter\n",
    "    def file(self):\n",
    "        self.file.close()\n",
    "        del self.file\n",
    "\n",
    "\n",
    "    # Properties\n",
    "    @property\n",
    "    def content(self):\n",
    "        return self.file.read()\n",
    "\n",
    "    @property\n",
    "    def lines(self):\n",
    "        return self.file.readlines()\n",
    "\n",
    "    @property\n",
    "    def chars(self):\n",
    "        return list(self.content)\n",
    "\n",
    "    @property\n",
    "    def words(self):\n",
    "        return re.split(r'\\s', self.content)\n",
    "\n",
    "\n",
    "    # Methods\n",
    "    def count(self):\n",
    "        return (\n",
    "            len(self.lines),\n",
    "            len(self.chars),\n",
    "            len(self.words)\n",
    "        )\n",
    "    \n",
    "    def head(self, n: int):\n",
    "        return self.lines[:n]\n",
    "    \n",
    "    def tail(self, n: int):\n",
    "        return self.lines[-n:]\n",
    "\n",
    "    def find(self, str: str):\n",
    "        found = []\n",
    "\n",
    "        for line in self.lines:\n",
    "            if str in line:\n",
    "                found.append(line)\n",
    "        \n",
    "        return found\n",
    "\n",
    "    def replace(self, str1: str, str2: str):\n",
    "        return self.content.replace(str1, str2)"
   ]
  },
  {
   "cell_type": "code",
   "execution_count": 47,
   "metadata": {},
   "outputs": [
    {
     "data": {
      "text/plain": [
       "((4, 1330, 195),\n",
       " ['Fugiat eu ullamco in nisi anim veniam culpa voluptate. Adipisicing esse Lorem occaecat velit culpa amet adipisicing commodo ullamco ex est. Sit non veniam eiusmod reprehenderit nisi in minim. Enim magna labore non et laboris. Dolor eu culpa ad ex elit sit ea. Cupidatat pariatur Lorem amet commodo nisi velit aliqua cupidatat consequat nostrud occaecat aliquip eiusmod.\\n',\n",
       "  'Sunt occaecat laboris fugiat laboris deserunt ullamco minim incididunt pariatur aute cupidatat velit do occaecat. Occaecat anim occaecat exercitation cupidatat voluptate quis in exercitation aliquip adipisicing Lorem. Et ex dolore dolor incididunt consectetur deserunt reprehenderit voluptate nulla mollit incididunt. Amet amet non anim aliqua.\\n'],\n",
       " ['Cillum velit commodo mollit Lorem duis aute id sunt nisi. Labore ea sint enim qui ipsum veniam enim mollit cupidatat occaecat. Veniam exercitation anim nulla excepteur eu in id deserunt ipsum labore laborum laboris magna minim.\\n',\n",
       "  'Veniam commodo laborum fugiat excepteur ex officia occaecat ullamco nostrud veniam mollit sunt dolore. Magna qui amet proident proident non adipisicing id irure proident ad et sit ea pariatur. Proident dolore ipsum et incididunt proident dolor reprehenderit amet irure qui elit incididunt voluptate laboris. Fugiat ipsum irure ipsum elit commodo ex cupidatat duis quis mollit quis eu et.'],\n",
       " ['Sunt occaecat laboris fugiat laboris deserunt ullamco minim incididunt pariatur aute cupidatat velit do occaecat. Occaecat anim occaecat exercitation cupidatat voluptate quis in exercitation aliquip adipisicing Lorem. Et ex dolore dolor incididunt consectetur deserunt reprehenderit voluptate nulla mollit incididunt. Amet amet non anim aliqua.\\n',\n",
       "  'Veniam commodo laborum fugiat excepteur ex officia occaecat ullamco nostrud veniam mollit sunt dolore. Magna qui amet proident proident non adipisicing id irure proident ad et sit ea pariatur. Proident dolore ipsum et incididunt proident dolor reprehenderit amet irure qui elit incididunt voluptate laboris. Fugiat ipsum irure ipsum elit commodo ex cupidatat duis quis mollit quis eu et.'],\n",
       " 'Fugiat eu ullamco in nisi anim veniam culpa voluptate. Adipisicing esse Lorem occaecat velit culpa amet adipisicing commodo ullamco ex est. Sit non veniam eiusmod reprehenderit nisi in minim. Enim magna labore non et laboris. Dolor eu culpa ad ex elit sit ea. Cupidatat pariatur Lorem amet commodo nisi velit aliqua cupidatat consequat nostrud occaecat aliquip eiusmod.\\nSunt occaecat laboris fugiat laboris deserunt ullamco minim incididunt pariatur aute cupidatat velit do occaecat. Occaecat anim occaecat exercitation cupidatat voluptate quis in exercitation aliquip adipisicing Lorem. Et ex OWENe OWEN incididunt consectetur deserunt reprehenderit voluptate nulla mollit incididunt. Amet amet non anim aliqua.\\nCillum velit commodo mollit Lorem duis aute id sunt nisi. Labore ea sint enim qui ipsum veniam enim mollit cupidatat occaecat. Veniam exercitation anim nulla excepteur eu in id deserunt ipsum labore laborum laboris magna minim.\\nVeniam commodo laborum fugiat excepteur ex officia occaecat ullamco nostrud veniam mollit sunt OWENe. Magna qui amet proident proident non adipisicing id irure proident ad et sit ea pariatur. Proident OWENe ipsum et incididunt proident OWEN reprehenderit amet irure qui elit incididunt voluptate laboris. Fugiat ipsum irure ipsum elit commodo ex cupidatat duis quis mollit quis eu et.')"
      ]
     },
     "execution_count": 47,
     "metadata": {},
     "output_type": "execute_result"
    }
   ],
   "source": [
    "f = File(\"text.txt\")\n",
    "\n",
    "(\n",
    "    f.count(),\n",
    "    f.head(2),\n",
    "    f.tail(2),\n",
    "    f.find('dolor'),\n",
    "    f.replace('dolor', \"OWEN\")\n",
    ")"
   ]
  }
 ],
 "metadata": {
  "interpreter": {
   "hash": "31f2aee4e71d21fbe5cf8b01ff0e069b9275f58929596ceb00d14d90e3e16cd6"
  },
  "kernelspec": {
   "display_name": "Python 3.8.9 64-bit",
   "language": "python",
   "name": "python3"
  },
  "language_info": {
   "codemirror_mode": {
    "name": "ipython",
    "version": 3
   },
   "file_extension": ".py",
   "mimetype": "text/x-python",
   "name": "python",
   "nbconvert_exporter": "python",
   "pygments_lexer": "ipython3",
   "version": "3.8.8"
  },
  "orig_nbformat": 4
 },
 "nbformat": 4,
 "nbformat_minor": 2
}
