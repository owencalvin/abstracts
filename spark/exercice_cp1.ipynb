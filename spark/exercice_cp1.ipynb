{
 "cells": [
  {
   "cell_type": "code",
   "execution_count": 12,
   "metadata": {},
   "outputs": [],
   "source": [
    "import pyspark\n",
    "\n",
    "builder = pyspark.sql.SparkSession.builder\n",
    "\n",
    "spark = builder.getOrCreate()\n",
    "sc = spark.sparkContext"
   ]
  },
  {
   "cell_type": "markdown",
   "metadata": {},
   "source": [
    "# Visualisation du reduce"
   ]
  },
  {
   "cell_type": "code",
   "execution_count": 13,
   "metadata": {},
   "outputs": [
    {
     "name": "stdout",
     "output_type": "stream",
     "text": [
      "x: 5 y: 11 retourne 16\n",
      "x: 16 y: 10 retourne 26\n",
      "x: 26 y: 5 retourne 31\n"
     ]
    },
    {
     "name": "stderr",
     "output_type": "stream",
     "text": [
      "x: 2 y: 3 retourne 5\n",
      "x: 1 y: 9 retourne 10\n",
      "x: 4 y: 7 retourne 11\n",
      "x: 3 y: 2 retourne 5\n"
     ]
    },
    {
     "data": {
      "text/plain": [
       "31"
      ]
     },
     "execution_count": 13,
     "metadata": {},
     "output_type": "execute_result"
    }
   ],
   "source": [
    "rdd3: pyspark.RDD = sc.parallelize([\n",
    "  2,\n",
    "  3,\n",
    "  4,\n",
    "  7,\n",
    "  1,\n",
    "  9,\n",
    "  3,\n",
    "  2\n",
    "])\n",
    "\n",
    "def sum(x, y):\n",
    "  print(f\"x: {x} y: {y} retourne {x + y}\")\n",
    "  return x + y\n",
    "\n",
    "m = rdd3.reduce(sum)\n",
    "\n",
    "m"
   ]
  },
  {
   "cell_type": "markdown",
   "metadata": {},
   "source": [
    "# Exerice du CP"
   ]
  },
  {
   "cell_type": "code",
   "execution_count": 14,
   "metadata": {},
   "outputs": [
    {
     "data": {
      "text/plain": [
       "['asd', 'asdqwe', 'qewra', 'qr', 'asde', 'teq']"
      ]
     },
     "execution_count": 14,
     "metadata": {},
     "output_type": "execute_result"
    }
   ],
   "source": [
    "rdd = sc.parallelize([\n",
    "    \"asd\",\n",
    "    \"asdqwe\",\n",
    "    \"qewra\",\n",
    "    \"qr\",\n",
    "    \"asde\",\n",
    "    \"teq\"\n",
    "])\n",
    "\n",
    "rdd.collect()"
   ]
  },
  {
   "cell_type": "code",
   "execution_count": 15,
   "metadata": {},
   "outputs": [
    {
     "data": {
      "text/plain": [
       "[('q', [8, 'qewrateq']), ('a', [11, 'asdqweqewra'])]"
      ]
     },
     "execution_count": 15,
     "metadata": {},
     "output_type": "execute_result"
    }
   ],
   "source": [
    "rdd2: pyspark.RDD = rdd.cartesian(rdd)\n",
    "\n",
    "def merge(x):\n",
    "    merged = x[0] + x[1]\n",
    "    key = x[0][0]\n",
    "    if key == x[1][-1]:\n",
    "        return (key, [len(merged), merged])\n",
    "\n",
    "rdd2 = rdd2.map(merge)\n",
    "rdd2 = rdd2.filter(lambda x: x != None)\n",
    "\n",
    "def red(x, y):\n",
    "    m = max(x[0], y[0])\n",
    "    m_str = y[1] if m == y[0] else x[1]\n",
    "        \n",
    "    return [m, m_str]\n",
    "\n",
    "rdd2 = rdd2.reduceByKey(red)\n",
    "\n",
    "rdd2.collect()"
   ]
  }
 ],
 "metadata": {
  "interpreter": {
   "hash": "b8d9c5844ce5be7f1f09a380337286978343066dae6e359f1c1e8e0a7d0f8b49"
  },
  "kernelspec": {
   "display_name": "Python 3.9.7 64-bit ('base': conda)",
   "language": "python",
   "name": "python3"
  },
  "language_info": {
   "codemirror_mode": {
    "name": "ipython",
    "version": 3
   },
   "file_extension": ".py",
   "mimetype": "text/x-python",
   "name": "python",
   "nbconvert_exporter": "python",
   "pygments_lexer": "ipython3",
   "version": "3.9.7"
  },
  "orig_nbformat": 4
 },
 "nbformat": 4,
 "nbformat_minor": 2
}
