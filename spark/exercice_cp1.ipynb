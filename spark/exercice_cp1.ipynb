{
 "cells": [
  {
   "cell_type": "code",
   "execution_count": 1,
   "metadata": {},
   "outputs": [
    {
     "name": "stderr",
     "output_type": "stream",
     "text": [
      "WARNING: An illegal reflective access operation has occurred\n",
      "WARNING: Illegal reflective access by org.apache.spark.unsafe.Platform (file:/opt/spark/jars/spark-unsafe_2.12-3.2.0.jar) to constructor java.nio.DirectByteBuffer(long,int)\n",
      "WARNING: Please consider reporting this to the maintainers of org.apache.spark.unsafe.Platform\n",
      "WARNING: Use --illegal-access=warn to enable warnings of further illegal reflective access operations\n",
      "WARNING: All illegal access operations will be denied in a future release\n",
      "Using Spark's default log4j profile: org/apache/spark/log4j-defaults.properties\n",
      "Setting default log level to \"WARN\".\n",
      "To adjust logging level use sc.setLogLevel(newLevel). For SparkR, use setLogLevel(newLevel).\n",
      "21/12/22 09:18:49 WARN NativeCodeLoader: Unable to load native-hadoop library for your platform... using builtin-java classes where applicable\n",
      "21/12/22 09:18:51 WARN Utils: Service 'SparkUI' could not bind on port 4040. Attempting port 4041.\n",
      "21/12/22 09:18:51 WARN Utils: Service 'SparkUI' could not bind on port 4041. Attempting port 4042.\n"
     ]
    }
   ],
   "source": [
    "import pyspark\n",
    "\n",
    "builder = pyspark.sql.SparkSession.builder\n",
    "\n",
    "spark = builder.getOrCreate()\n",
    "sc = spark.sparkContext"
   ]
  },
  {
   "cell_type": "code",
   "execution_count": 2,
   "metadata": {},
   "outputs": [
    {
     "data": {
      "text/plain": [
       "['asd', 'asdqwe', 'qewra', 'qr', 'asde', 'teq']"
      ]
     },
     "execution_count": 2,
     "metadata": {},
     "output_type": "execute_result"
    }
   ],
   "source": [
    "rdd = sc.parallelize([\n",
    "    \"asd\",\n",
    "    \"asdqwe\",\n",
    "    \"qewra\",\n",
    "    \"qr\",\n",
    "    \"asde\",\n",
    "    \"teq\"\n",
    "])\n",
    "\n",
    "rdd.collect()"
   ]
  },
  {
   "cell_type": "code",
   "execution_count": 3,
   "metadata": {},
   "outputs": [
    {
     "name": "stderr",
     "output_type": "stream",
     "text": [
      "                                                                                \r"
     ]
    },
    {
     "data": {
      "text/plain": [
       "[('q', [8, 'qewrateq']), ('a', [11, 'asdqweqewra'])]"
      ]
     },
     "execution_count": 3,
     "metadata": {},
     "output_type": "execute_result"
    }
   ],
   "source": [
    "rdd2: pyspark.RDD = rdd.cartesian(rdd)\n",
    "\n",
    "def merge(x):\n",
    "    merged = x[0] + x[1]\n",
    "    key = x[0][0]\n",
    "    if key == x[1][-1]:\n",
    "        return (key, [len(merged), merged])\n",
    "\n",
    "rdd2 = rdd2.map(merge)\n",
    "rdd2 = rdd2.filter(lambda x: x != None)\n",
    "\n",
    "def red(x, y):\n",
    "    m = max(x[0], y[0])\n",
    "    m_str = y[1] if m == y[0] else x[1]\n",
    "        \n",
    "    return [m, m_str]\n",
    "\n",
    "rdd2 = rdd2.reduceByKey(red)\n",
    "\n",
    "rdd2.collect()"
   ]
  }
 ],
 "metadata": {
  "interpreter": {
   "hash": "b8d9c5844ce5be7f1f09a380337286978343066dae6e359f1c1e8e0a7d0f8b49"
  },
  "kernelspec": {
   "display_name": "Python 3.9.7 64-bit ('base': conda)",
   "language": "python",
   "name": "python3"
  },
  "language_info": {
   "codemirror_mode": {
    "name": "ipython",
    "version": 3
   },
   "file_extension": ".py",
   "mimetype": "text/x-python",
   "name": "python",
   "nbconvert_exporter": "python",
   "pygments_lexer": "ipython3",
   "version": "3.9.7"
  },
  "orig_nbformat": 4
 },
 "nbformat": 4,
 "nbformat_minor": 2
}
