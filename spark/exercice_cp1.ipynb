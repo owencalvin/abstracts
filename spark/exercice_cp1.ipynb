{
 "cells": [
  {
   "cell_type": "code",
   "execution_count": null,
   "metadata": {},
   "outputs": [],
   "source": [
    "import pyspark\n",
    "\n",
    "builder = pyspark.sql.SparkSession.builder\n",
    "\n",
    "spark = builder.getOrCreate()\n",
    "sc = spark.sparkContext"
   ]
  },
  {
   "cell_type": "code",
   "execution_count": null,
   "metadata": {},
   "outputs": [],
   "source": [
    "rdd = sc.parallelize([\n",
    "    \"asd\",\n",
    "    \"asdqwe\",\n",
    "    \"qewra\",\n",
    "    \"qr\",\n",
    "    \"asde\",\n",
    "    \"teq\"\n",
    "])\n",
    "\n",
    "rdd.collect()"
   ]
  },
  {
   "cell_type": "code",
   "execution_count": null,
   "metadata": {},
   "outputs": [],
   "source": [
    "rdd2: pyspark.RDD = rdd.cartesian(rdd)\n",
    "\n",
    "def merge(x):\n",
    "    merged = x[0] + x[1]\n",
    "    key = x[0][0]\n",
    "    if key == x[1][-1]:\n",
    "        return (key, [len(merged), merged])\n",
    "\n",
    "rdd2 = rdd2.map(merge)\n",
    "rdd2 = rdd2.filter(lambda x: x != None)\n",
    "\n",
    "def red(x, y):\n",
    "    m = max(x[0], y[0])\n",
    "    m_str = y[1] if m == y[0] else x[1]\n",
    "        \n",
    "    return [m, m_str]\n",
    "\n",
    "rdd2 = rdd2.reduceByKey(red)\n",
    "\n",
    "rdd2.collect()"
   ]
  }
 ],
 "metadata": {
  "language_info": {
   "name": "python"
  },
  "orig_nbformat": 4
 },
 "nbformat": 4,
 "nbformat_minor": 2
}
