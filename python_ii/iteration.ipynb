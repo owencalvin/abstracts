{
 "cells": [
  {
   "cell_type": "code",
   "execution_count": 59,
   "metadata": {},
   "outputs": [],
   "source": [
    "class Reverse:\n",
    "    _value: str\n",
    "    _index: int\n",
    "\n",
    "    def __init__(self, value: str):\n",
    "        self._value = value\n",
    "        self._index = len(value)\n",
    "    \n",
    "    def __iter__(self):\n",
    "        return self\n",
    "    \n",
    "    def __next__(self):\n",
    "        self._index -= 1\n",
    "\n",
    "        if self._index < 0:\n",
    "            raise StopIteration\n",
    "\n",
    "        return self._value[self._index]\n"
   ]
  },
  {
   "cell_type": "code",
   "execution_count": 60,
   "metadata": {},
   "outputs": [
    {
     "name": "stdout",
     "output_type": "stream",
     "text": [
      "ruojnob"
     ]
    }
   ],
   "source": [
    "for i in Reverse(\"bonjour\"):\n",
    "    print(i, end=\"\")"
   ]
  }
 ],
 "metadata": {
  "interpreter": {
   "hash": "c630b349f7183e9a5f9274d889fc3e15c392ce12037771bccbc1917471fc634b"
  },
  "kernelspec": {
   "display_name": "Python 3.8.8 64-bit ('base': conda)",
   "name": "python3"
  },
  "language_info": {
   "codemirror_mode": {
    "name": "ipython",
    "version": 3
   },
   "file_extension": ".py",
   "mimetype": "text/x-python",
   "name": "python",
   "nbconvert_exporter": "python",
   "pygments_lexer": "ipython3",
   "version": "3.8.8"
  },
  "orig_nbformat": 4
 },
 "nbformat": 4,
 "nbformat_minor": 2
}
