{
 "cells": [
  {
   "cell_type": "markdown",
   "metadata": {},
   "source": [
    "# Imports"
   ]
  },
  {
   "cell_type": "code",
   "execution_count": 1,
   "metadata": {},
   "outputs": [],
   "source": [
    "import requests\n",
    "from bs4 import BeautifulSoup\n",
    "import pandas as pd\n",
    "import dateparser\n",
    "import unicodedata\n",
    "import re\n",
    "import plotly.express as px"
   ]
  },
  {
   "cell_type": "code",
   "execution_count": 2,
   "metadata": {},
   "outputs": [],
   "source": [
    "import warnings\n",
    "\n",
    "warnings.filterwarnings(\n",
    "    \"ignore\",\n",
    "    message=\"The localize method is no longer necessary, as this time zone supports the fold attribute\",\n",
    ")"
   ]
  },
  {
   "cell_type": "code",
   "execution_count": 3,
   "metadata": {},
   "outputs": [],
   "source": [
    "url2021 = \"https://fr.wikipedia.org/wiki/Wikipédia:Le_saviez-vous_%3F/Archives\"\n",
    "url2020 = \"https://fr.wikipedia.org/wiki/Wikipédia:Le_saviez-vous_%3F/Archives/2020\"\n",
    "url2019 = \"https://fr.wikipedia.org/wiki/Wikipédia:Le_saviez-vous_%3F/Archives/2019\"\n",
    "url2018 = \"https://fr.wikipedia.org/wiki/Wikipédia:Le_saviez-vous_%3F/Archives/2018\"\n",
    "url2017 = \"https://fr.wikipedia.org/wiki/Wikipédia:Le_saviez-vous_%3F/Archives/2017\""
   ]
  },
  {
   "cell_type": "markdown",
   "metadata": {},
   "source": [
    "# **Scraping the first page**\n",
    "\n",
    "- Allez sur:\n",
    "[https://fr.wikipedia.org/wiki/Wikip%C3%A9dia:Le_saviez-vous_%3F/Archives](https://fr.wikipedia.org/wiki/Wikip%C3%A9dia:Le_saviez-vous_%3F/Archives)\n",
    "- Utilisez `requests` pour scraper la page\n",
    "- Utilisez `BeautifulSoup` pour parser le contenu en un objet `BeautifulSoup`"
   ]
  },
  {
   "cell_type": "code",
   "execution_count": 4,
   "metadata": {},
   "outputs": [],
   "source": [
    "def get_page(url: str):\n",
    "    result = requests.get(url)\n",
    "    return BeautifulSoup(result.text, \"html.parser\")\n",
    "\n",
    "page2021 = get_page(url2021)"
   ]
  },
  {
   "cell_type": "markdown",
   "metadata": {},
   "source": [
    "# **Identifying relevant page part and first quote**\n",
    "\n",
    "- Utilisez l'inspecteur de votre navigateur web pour trouver où se situe le contenu de la page, et les quotes\n",
    "- Utilisez les propriétés de `BeautifulSoup` pour isoler la partie pertinente\n",
    "- Isoler la première quote et affichez-la"
   ]
  },
  {
   "cell_type": "code",
   "execution_count": 5,
   "metadata": {},
   "outputs": [
    {
     "data": {
      "text/plain": [
       "'Victor Hugo a empêché pendant six ans la représentation en France de Rigoletto (affiche du haut) de Giuseppe Verdi, estimant qu’il s’agissait d’un plagiat d’une de ses œuvres (affiche du bas).'"
      ]
     },
     "execution_count": 5,
     "metadata": {},
     "output_type": "execute_result"
    }
   ],
   "source": [
    "def get_quotes_on_page(page):\n",
    "    quotes_elements = page.find(class_ = \"mw-parser-output\").find(\"ul\").find_all(\"li\")\n",
    "    rows = []\n",
    "\n",
    "    for quote_element in quotes_elements:\n",
    "        # Remove the dl tag from the li\n",
    "        date_element = quote_element.find(\"dl\").extract()\n",
    "\n",
    "        # unicodedata.normalize(\"NFKD\", child.text) removes the \\xa0\n",
    "        quote = unicodedata.normalize(\"NFKD\", quote_element.text)\n",
    "        quote = quote.replace(\"\\n\", \"\")\n",
    "\n",
    "        row = {\n",
    "            \"quote_element\": quote_element,\n",
    "            \"date_element\": date_element,\n",
    "            \"quote\": quote\n",
    "        }\n",
    "\n",
    "        rows.append(row);\n",
    "\n",
    "        # Reappend the dl tag to the li\n",
    "        quote_element.append(date_element)\n",
    "\n",
    "    return rows\n",
    "\n",
    "rows = get_quotes_on_page(page2021)\n",
    "\n",
    "rows[0][\"quote\"]"
   ]
  },
  {
   "cell_type": "markdown",
   "metadata": {},
   "source": [
    "# **Creating pandas DataFrame**\n",
    "\n",
    "- Créez un DataFrame pandas afin de récolter les différentes quotes que vous allez parser\n",
    "- Utilisez les colonnes fournies\n",
    "- Ajoutez la première quote précédemment extraite comme première entrée de votre DataFrame\n",
    "\n",
    "```python\n",
    "# Noms des colonnes du dataframe pandas\n",
    "columns=['year', 'date', 'quote']\n",
    "```"
   ]
  },
  {
   "cell_type": "code",
   "execution_count": 6,
   "metadata": {},
   "outputs": [],
   "source": [
    "def create_quotes_df(data):\n",
    "    return pd.DataFrame(\n",
    "        data if data else [],\n",
    "        columns=[\n",
    "            \"quote_element\",\n",
    "            \"date_element\",\n",
    "            \"french_date\",\n",
    "            \"quote\",\n",
    "            \"date\",\n",
    "            \"year\"\n",
    "        ]\n",
    "    )"
   ]
  },
  {
   "cell_type": "code",
   "execution_count": 7,
   "metadata": {},
   "outputs": [
    {
     "data": {
      "text/html": [
       "<div>\n",
       "<style scoped>\n",
       "    .dataframe tbody tr th:only-of-type {\n",
       "        vertical-align: middle;\n",
       "    }\n",
       "\n",
       "    .dataframe tbody tr th {\n",
       "        vertical-align: top;\n",
       "    }\n",
       "\n",
       "    .dataframe thead th {\n",
       "        text-align: right;\n",
       "    }\n",
       "</style>\n",
       "<table border=\"1\" class=\"dataframe\">\n",
       "  <thead>\n",
       "    <tr style=\"text-align: right;\">\n",
       "      <th></th>\n",
       "      <th>quote_element</th>\n",
       "      <th>date_element</th>\n",
       "      <th>french_date</th>\n",
       "      <th>quote</th>\n",
       "      <th>date</th>\n",
       "      <th>year</th>\n",
       "    </tr>\n",
       "  </thead>\n",
       "  <tbody>\n",
       "    <tr>\n",
       "      <th>0</th>\n",
       "      <td>[[[&lt;img alt=\"Affiche de la première mondiale d...</td>\n",
       "      <td>[[[présente 2 jours en page d'accueil du 01 ja...</td>\n",
       "      <td>NaN</td>\n",
       "      <td>Victor Hugo a empêché pendant six ans la rep...</td>\n",
       "      <td>NaN</td>\n",
       "      <td>NaN</td>\n",
       "    </tr>\n",
       "  </tbody>\n",
       "</table>\n",
       "</div>"
      ],
      "text/plain": [
       "                                       quote_element  \\\n",
       "0  [[[<img alt=\"Affiche de la première mondiale d...   \n",
       "\n",
       "                                        date_element  french_date  \\\n",
       "0  [[[présente 2 jours en page d'accueil du 01 ja...          NaN   \n",
       "\n",
       "                                               quote  date  year  \n",
       "0  Victor Hugo a empêché pendant six ans la rep...   NaN   NaN  "
      ]
     },
     "execution_count": 7,
     "metadata": {},
     "output_type": "execute_result"
    }
   ],
   "source": [
    "df_quotes_2021 = create_quotes_df([rows[0]])\n",
    "df_quotes_2021"
   ]
  },
  {
   "cell_type": "code",
   "execution_count": 8,
   "metadata": {},
   "outputs": [],
   "source": [
    "def extract_quote_informations(item):\n",
    "    item[\"french_date\"] = re.sub(r\"(.*du\\s|\\sà.*)\", \"\", item.date_element.text);\n",
    "    item[\"date\"] = dateparser.parse(item.french_date, languages=[\"fr\"])\n",
    "    item[\"year\"] = item.date.year\n",
    "    return item\n",
    "\n",
    "df_quotes_2021 = df_quotes_2021.apply(extract_quote_informations, axis=1)"
   ]
  },
  {
   "cell_type": "code",
   "execution_count": 9,
   "metadata": {},
   "outputs": [
    {
     "data": {
      "text/html": [
       "<div>\n",
       "<style scoped>\n",
       "    .dataframe tbody tr th:only-of-type {\n",
       "        vertical-align: middle;\n",
       "    }\n",
       "\n",
       "    .dataframe tbody tr th {\n",
       "        vertical-align: top;\n",
       "    }\n",
       "\n",
       "    .dataframe thead th {\n",
       "        text-align: right;\n",
       "    }\n",
       "</style>\n",
       "<table border=\"1\" class=\"dataframe\">\n",
       "  <thead>\n",
       "    <tr style=\"text-align: right;\">\n",
       "      <th></th>\n",
       "      <th>quote</th>\n",
       "      <th>date</th>\n",
       "      <th>year</th>\n",
       "    </tr>\n",
       "  </thead>\n",
       "  <tbody>\n",
       "    <tr>\n",
       "      <th>0</th>\n",
       "      <td>Victor Hugo a empêché pendant six ans la rep...</td>\n",
       "      <td>2021-01-01</td>\n",
       "      <td>2021</td>\n",
       "    </tr>\n",
       "  </tbody>\n",
       "</table>\n",
       "</div>"
      ],
      "text/plain": [
       "                                               quote       date  year\n",
       "0  Victor Hugo a empêché pendant six ans la rep... 2021-01-01  2021"
      ]
     },
     "execution_count": 9,
     "metadata": {},
     "output_type": "execute_result"
    }
   ],
   "source": [
    "df_quotes_2021[[\"quote\", \"date\", \"year\"]]"
   ]
  },
  {
   "cell_type": "markdown",
   "metadata": {},
   "source": [
    "# **Parsing 2021**\n",
    "\n",
    "- L'objectif de cette section est de parser l'année 2021 complète et de l'ajouter au DataFrame\n",
    "- Les fonction `find`, `rfind`, etc... des `strings` Python peuvent vous être utiles pour identifier les parties pertinentes des quotes\n",
    "- `dateparser` vous permet de transformer une date sous forme de texte en une date à un format plus standard"
   ]
  },
  {
   "cell_type": "code",
   "execution_count": 10,
   "metadata": {},
   "outputs": [
    {
     "data": {
      "text/html": [
       "<div>\n",
       "<style scoped>\n",
       "    .dataframe tbody tr th:only-of-type {\n",
       "        vertical-align: middle;\n",
       "    }\n",
       "\n",
       "    .dataframe tbody tr th {\n",
       "        vertical-align: top;\n",
       "    }\n",
       "\n",
       "    .dataframe thead th {\n",
       "        text-align: right;\n",
       "    }\n",
       "</style>\n",
       "<table border=\"1\" class=\"dataframe\">\n",
       "  <thead>\n",
       "    <tr style=\"text-align: right;\">\n",
       "      <th></th>\n",
       "      <th>quote</th>\n",
       "      <th>date</th>\n",
       "      <th>year</th>\n",
       "    </tr>\n",
       "  </thead>\n",
       "  <tbody>\n",
       "    <tr>\n",
       "      <th>0</th>\n",
       "      <td>Victor Hugo a empêché pendant six ans la rep...</td>\n",
       "      <td>2021-01-01</td>\n",
       "      <td>2021</td>\n",
       "    </tr>\n",
       "    <tr>\n",
       "      <th>1</th>\n",
       "      <td>Au pays des kiwis, la France se nomme Wīwī.</td>\n",
       "      <td>2021-01-01</td>\n",
       "      <td>2021</td>\n",
       "    </tr>\n",
       "    <tr>\n",
       "      <th>2</th>\n",
       "      <td>Réalisés le même jour, La Rue Mosnier aux d...</td>\n",
       "      <td>2021-01-01</td>\n",
       "      <td>2021</td>\n",
       "    </tr>\n",
       "    <tr>\n",
       "      <th>3</th>\n",
       "      <td>L’astéroïde (24601) Valjean est ainsi nommé...</td>\n",
       "      <td>2021-01-02</td>\n",
       "      <td>2021</td>\n",
       "    </tr>\n",
       "    <tr>\n",
       "      <th>4</th>\n",
       "      <td>D’abord hôtel particulier, désormais réside...</td>\n",
       "      <td>2021-01-03</td>\n",
       "      <td>2021</td>\n",
       "    </tr>\n",
       "    <tr>\n",
       "      <th>...</th>\n",
       "      <td>...</td>\n",
       "      <td>...</td>\n",
       "      <td>...</td>\n",
       "    </tr>\n",
       "    <tr>\n",
       "      <th>841</th>\n",
       "      <td>La rose 'Molineux' doit son nom au stade du Wo...</td>\n",
       "      <td>2021-12-03</td>\n",
       "      <td>2021</td>\n",
       "    </tr>\n",
       "    <tr>\n",
       "      <th>842</th>\n",
       "      <td>En proposant « Du café pour tous » en 1977, M...</td>\n",
       "      <td>2021-12-04</td>\n",
       "      <td>2021</td>\n",
       "    </tr>\n",
       "    <tr>\n",
       "      <th>843</th>\n",
       "      <td>Les expressions « une affaire pendante », « vi...</td>\n",
       "      <td>2021-12-04</td>\n",
       "      <td>2021</td>\n",
       "    </tr>\n",
       "    <tr>\n",
       "      <th>844</th>\n",
       "      <td>En une année passée à la tête du ministèr...</td>\n",
       "      <td>2021-12-05</td>\n",
       "      <td>2021</td>\n",
       "    </tr>\n",
       "    <tr>\n",
       "      <th>845</th>\n",
       "      <td>En 1957, Dax remporte le Challenge Yves du Man...</td>\n",
       "      <td>2021-12-05</td>\n",
       "      <td>2021</td>\n",
       "    </tr>\n",
       "  </tbody>\n",
       "</table>\n",
       "<p>846 rows × 3 columns</p>\n",
       "</div>"
      ],
      "text/plain": [
       "                                                 quote       date  year\n",
       "0    Victor Hugo a empêché pendant six ans la rep... 2021-01-01  2021\n",
       "1        Au pays des kiwis, la France se nomme Wīwī. 2021-01-01  2021\n",
       "2    Réalisés le même jour, La Rue Mosnier aux d... 2021-01-01  2021\n",
       "3    L’astéroïde (24601) Valjean est ainsi nommé... 2021-01-02  2021\n",
       "4    D’abord hôtel particulier, désormais réside... 2021-01-03  2021\n",
       "..                                                 ...        ...   ...\n",
       "841  La rose 'Molineux' doit son nom au stade du Wo... 2021-12-03  2021\n",
       "842  En proposant « Du café pour tous » en 1977, M... 2021-12-04  2021\n",
       "843  Les expressions « une affaire pendante », « vi... 2021-12-04  2021\n",
       "844  En une année passée à la tête du ministèr... 2021-12-05  2021\n",
       "845  En 1957, Dax remporte le Challenge Yves du Man... 2021-12-05  2021\n",
       "\n",
       "[846 rows x 3 columns]"
      ]
     },
     "execution_count": 10,
     "metadata": {},
     "output_type": "execute_result"
    }
   ],
   "source": [
    "# We already parsed the entire df with the previous exercise\n",
    "df_quotes_2021 = df_quotes_2021.append(rows[1:], ignore_index=True)\n",
    "df_quotes_2021 = df_quotes_2021.apply(extract_quote_informations, axis=1)\n",
    "\n",
    "df_quotes_2021[[\"quote\", \"date\", \"year\"]]"
   ]
  },
  {
   "cell_type": "markdown",
   "metadata": {},
   "source": [
    "# **Parsing 2017 to 2020**\n",
    "\n",
    "- L'objectif de cette section est de parser les années 2017 à 2020 et de les ajouter au DataFrame\n",
    "- Les fonction `find`, `rfind`, etc... des `strings` Python peuvent vous être utiles pour identifier les parties pertinentes des quotes\n",
    "- `dateparser` vous permet de transformer une date sous forme de texte en une date à un format plus standard"
   ]
  },
  {
   "cell_type": "code",
   "execution_count": 11,
   "metadata": {},
   "outputs": [
    {
     "data": {
      "text/html": [
       "<div>\n",
       "<style scoped>\n",
       "    .dataframe tbody tr th:only-of-type {\n",
       "        vertical-align: middle;\n",
       "    }\n",
       "\n",
       "    .dataframe tbody tr th {\n",
       "        vertical-align: top;\n",
       "    }\n",
       "\n",
       "    .dataframe thead th {\n",
       "        text-align: right;\n",
       "    }\n",
       "</style>\n",
       "<table border=\"1\" class=\"dataframe\">\n",
       "  <thead>\n",
       "    <tr style=\"text-align: right;\">\n",
       "      <th></th>\n",
       "      <th>quote</th>\n",
       "      <th>date</th>\n",
       "      <th>year</th>\n",
       "    </tr>\n",
       "  </thead>\n",
       "  <tbody>\n",
       "    <tr>\n",
       "      <th>0</th>\n",
       "      <td>Aucun État ayant un programme autonome de vol...</td>\n",
       "      <td>2017-01-01</td>\n",
       "      <td>2017</td>\n",
       "    </tr>\n",
       "    <tr>\n",
       "      <th>1</th>\n",
       "      <td>Le 1er janvier 1977, la Belgique a divisé par...</td>\n",
       "      <td>2017-01-01</td>\n",
       "      <td>2017</td>\n",
       "    </tr>\n",
       "    <tr>\n",
       "      <th>2</th>\n",
       "      <td>Une loi adoptée sous le Consulat a autorisé ...</td>\n",
       "      <td>2017-01-02</td>\n",
       "      <td>2017</td>\n",
       "    </tr>\n",
       "    <tr>\n",
       "      <th>3</th>\n",
       "      <td>Le fruit de la pomme de terre (dessin) est tox...</td>\n",
       "      <td>2017-01-02</td>\n",
       "      <td>2017</td>\n",
       "    </tr>\n",
       "    <tr>\n",
       "      <th>4</th>\n",
       "      <td>Le Paléolithique recouvre environ 95 % de la ...</td>\n",
       "      <td>2017-01-03</td>\n",
       "      <td>2017</td>\n",
       "    </tr>\n",
       "    <tr>\n",
       "      <th>...</th>\n",
       "      <td>...</td>\n",
       "      <td>...</td>\n",
       "      <td>...</td>\n",
       "    </tr>\n",
       "    <tr>\n",
       "      <th>4965</th>\n",
       "      <td>La rose 'Molineux' doit son nom au stade du Wo...</td>\n",
       "      <td>2021-12-03</td>\n",
       "      <td>2021</td>\n",
       "    </tr>\n",
       "    <tr>\n",
       "      <th>4966</th>\n",
       "      <td>En proposant « Du café pour tous » en 1977, M...</td>\n",
       "      <td>2021-12-04</td>\n",
       "      <td>2021</td>\n",
       "    </tr>\n",
       "    <tr>\n",
       "      <th>4967</th>\n",
       "      <td>Les expressions « une affaire pendante », « vi...</td>\n",
       "      <td>2021-12-04</td>\n",
       "      <td>2021</td>\n",
       "    </tr>\n",
       "    <tr>\n",
       "      <th>4968</th>\n",
       "      <td>En une année passée à la tête du ministèr...</td>\n",
       "      <td>2021-12-05</td>\n",
       "      <td>2021</td>\n",
       "    </tr>\n",
       "    <tr>\n",
       "      <th>4969</th>\n",
       "      <td>En 1957, Dax remporte le Challenge Yves du Man...</td>\n",
       "      <td>2021-12-05</td>\n",
       "      <td>2021</td>\n",
       "    </tr>\n",
       "  </tbody>\n",
       "</table>\n",
       "<p>4970 rows × 3 columns</p>\n",
       "</div>"
      ],
      "text/plain": [
       "                                                  quote       date  year\n",
       "0     Aucun État ayant un programme autonome de vol... 2017-01-01  2017\n",
       "1     Le 1er janvier 1977, la Belgique a divisé par... 2017-01-01  2017\n",
       "2     Une loi adoptée sous le Consulat a autorisé ... 2017-01-02  2017\n",
       "3     Le fruit de la pomme de terre (dessin) est tox... 2017-01-02  2017\n",
       "4     Le Paléolithique recouvre environ 95 % de la ... 2017-01-03  2017\n",
       "...                                                 ...        ...   ...\n",
       "4965  La rose 'Molineux' doit son nom au stade du Wo... 2021-12-03  2021\n",
       "4966  En proposant « Du café pour tous » en 1977, M... 2021-12-04  2021\n",
       "4967  Les expressions « une affaire pendante », « vi... 2021-12-04  2021\n",
       "4968  En une année passée à la tête du ministèr... 2021-12-05  2021\n",
       "4969  En 1957, Dax remporte le Challenge Yves du Man... 2021-12-05  2021\n",
       "\n",
       "[4970 rows x 3 columns]"
      ]
     },
     "execution_count": 11,
     "metadata": {},
     "output_type": "execute_result"
    }
   ],
   "source": [
    "urls = [url2017, url2018, url2019, url2020]\n",
    "\n",
    "df_quotes_2017_2021 = df_quotes_2021.copy()\n",
    "\n",
    "for url in urls:\n",
    "    page = get_page(url)\n",
    "    quotes = get_quotes_on_page(page)\n",
    "    df_quotes_2017_2021 = df_quotes_2017_2021.append(quotes, ignore_index=True)\n",
    "\n",
    "df_quotes_2017_2021 = df_quotes_2017_2021.apply(extract_quote_informations, axis=1)\n",
    "df_quotes_2017_2021 = df_quotes_2017_2021[df_quotes_2017_2021.year >= 2017]\n",
    "df_quotes_2017_2021.sort_values(by=[\"date\"], inplace=True)\n",
    "df_quotes_2017_2021.reset_index(inplace=True)\n",
    "df_quotes_2017_2021.drop(\"index\", axis=1, inplace=True)\n",
    "\n",
    "df_quotes_2017_2021[[\"quote\", \"date\", \"year\"]]\n",
    "    "
   ]
  },
  {
   "cell_type": "markdown",
   "metadata": {},
   "source": [
    "# **df Transformations**\n",
    "\n",
    "- Supprimez la colonne `'year'` du DataFrame\n",
    "- Importez de la colonne `'date'` des informations permettant de générer une colonne `'year'` et `'month'`"
   ]
  },
  {
   "cell_type": "code",
   "execution_count": 12,
   "metadata": {},
   "outputs": [
    {
     "data": {
      "text/html": [
       "<div>\n",
       "<style scoped>\n",
       "    .dataframe tbody tr th:only-of-type {\n",
       "        vertical-align: middle;\n",
       "    }\n",
       "\n",
       "    .dataframe tbody tr th {\n",
       "        vertical-align: top;\n",
       "    }\n",
       "\n",
       "    .dataframe thead th {\n",
       "        text-align: right;\n",
       "    }\n",
       "</style>\n",
       "<table border=\"1\" class=\"dataframe\">\n",
       "  <thead>\n",
       "    <tr style=\"text-align: right;\">\n",
       "      <th></th>\n",
       "      <th>quote</th>\n",
       "      <th>date</th>\n",
       "      <th>year</th>\n",
       "    </tr>\n",
       "  </thead>\n",
       "  <tbody>\n",
       "    <tr>\n",
       "      <th>0</th>\n",
       "      <td>Aucun État ayant un programme autonome de vol...</td>\n",
       "      <td>2017-01-01</td>\n",
       "      <td>2017</td>\n",
       "    </tr>\n",
       "    <tr>\n",
       "      <th>1</th>\n",
       "      <td>Le 1er janvier 1977, la Belgique a divisé par...</td>\n",
       "      <td>2017-01-01</td>\n",
       "      <td>2017</td>\n",
       "    </tr>\n",
       "    <tr>\n",
       "      <th>2</th>\n",
       "      <td>Une loi adoptée sous le Consulat a autorisé ...</td>\n",
       "      <td>2017-01-02</td>\n",
       "      <td>2017</td>\n",
       "    </tr>\n",
       "    <tr>\n",
       "      <th>3</th>\n",
       "      <td>Le fruit de la pomme de terre (dessin) est tox...</td>\n",
       "      <td>2017-01-02</td>\n",
       "      <td>2017</td>\n",
       "    </tr>\n",
       "    <tr>\n",
       "      <th>4</th>\n",
       "      <td>Le Paléolithique recouvre environ 95 % de la ...</td>\n",
       "      <td>2017-01-03</td>\n",
       "      <td>2017</td>\n",
       "    </tr>\n",
       "    <tr>\n",
       "      <th>...</th>\n",
       "      <td>...</td>\n",
       "      <td>...</td>\n",
       "      <td>...</td>\n",
       "    </tr>\n",
       "    <tr>\n",
       "      <th>4965</th>\n",
       "      <td>La rose 'Molineux' doit son nom au stade du Wo...</td>\n",
       "      <td>2021-12-03</td>\n",
       "      <td>2021</td>\n",
       "    </tr>\n",
       "    <tr>\n",
       "      <th>4966</th>\n",
       "      <td>En proposant « Du café pour tous » en 1977, M...</td>\n",
       "      <td>2021-12-04</td>\n",
       "      <td>2021</td>\n",
       "    </tr>\n",
       "    <tr>\n",
       "      <th>4967</th>\n",
       "      <td>Les expressions « une affaire pendante », « vi...</td>\n",
       "      <td>2021-12-04</td>\n",
       "      <td>2021</td>\n",
       "    </tr>\n",
       "    <tr>\n",
       "      <th>4968</th>\n",
       "      <td>En une année passée à la tête du ministèr...</td>\n",
       "      <td>2021-12-05</td>\n",
       "      <td>2021</td>\n",
       "    </tr>\n",
       "    <tr>\n",
       "      <th>4969</th>\n",
       "      <td>En 1957, Dax remporte le Challenge Yves du Man...</td>\n",
       "      <td>2021-12-05</td>\n",
       "      <td>2021</td>\n",
       "    </tr>\n",
       "  </tbody>\n",
       "</table>\n",
       "<p>4970 rows × 3 columns</p>\n",
       "</div>"
      ],
      "text/plain": [
       "                                                  quote       date  year\n",
       "0     Aucun État ayant un programme autonome de vol... 2017-01-01  2017\n",
       "1     Le 1er janvier 1977, la Belgique a divisé par... 2017-01-01  2017\n",
       "2     Une loi adoptée sous le Consulat a autorisé ... 2017-01-02  2017\n",
       "3     Le fruit de la pomme de terre (dessin) est tox... 2017-01-02  2017\n",
       "4     Le Paléolithique recouvre environ 95 % de la ... 2017-01-03  2017\n",
       "...                                                 ...        ...   ...\n",
       "4965  La rose 'Molineux' doit son nom au stade du Wo... 2021-12-03  2021\n",
       "4966  En proposant « Du café pour tous » en 1977, M... 2021-12-04  2021\n",
       "4967  Les expressions « une affaire pendante », « vi... 2021-12-04  2021\n",
       "4968  En une année passée à la tête du ministèr... 2021-12-05  2021\n",
       "4969  En 1957, Dax remporte le Challenge Yves du Man... 2021-12-05  2021\n",
       "\n",
       "[4970 rows x 3 columns]"
      ]
     },
     "execution_count": 12,
     "metadata": {},
     "output_type": "execute_result"
    }
   ],
   "source": [
    "df_quotes_2017_2021.drop(\"year\", axis=1, inplace=True)\n",
    "df_quotes_2017_2021[\"month\"] = df_quotes_2017_2021.date.dt.month\n",
    "df_quotes_2017_2021[\"year\"] = df_quotes_2017_2021.date.dt.year\n",
    "\n",
    "df_quotes_2017_2021[[\"quote\", \"date\", \"year\"]]"
   ]
  },
  {
   "cell_type": "markdown",
   "metadata": {},
   "source": [
    "# **Exporting DataFrame to csv**\n",
    "\n",
    "- Exporter votre DataFrame avec le nom donné\n",
    "- Utilisez `';'` comme séparateur et n'exporter pas l'index"
   ]
  },
  {
   "cell_type": "code",
   "execution_count": 13,
   "metadata": {},
   "outputs": [
    {
     "data": {
      "text/html": [
       "<div>\n",
       "<style scoped>\n",
       "    .dataframe tbody tr th:only-of-type {\n",
       "        vertical-align: middle;\n",
       "    }\n",
       "\n",
       "    .dataframe tbody tr th {\n",
       "        vertical-align: top;\n",
       "    }\n",
       "\n",
       "    .dataframe thead th {\n",
       "        text-align: right;\n",
       "    }\n",
       "</style>\n",
       "<table border=\"1\" class=\"dataframe\">\n",
       "  <thead>\n",
       "    <tr style=\"text-align: right;\">\n",
       "      <th></th>\n",
       "      <th>quote</th>\n",
       "      <th>date</th>\n",
       "      <th>month</th>\n",
       "      <th>year</th>\n",
       "    </tr>\n",
       "  </thead>\n",
       "  <tbody>\n",
       "    <tr>\n",
       "      <th>0</th>\n",
       "      <td>Aucun État ayant un programme autonome de vol...</td>\n",
       "      <td>2017-01-01</td>\n",
       "      <td>1</td>\n",
       "      <td>2017</td>\n",
       "    </tr>\n",
       "    <tr>\n",
       "      <th>1</th>\n",
       "      <td>Le 1er janvier 1977, la Belgique a divisé par...</td>\n",
       "      <td>2017-01-01</td>\n",
       "      <td>1</td>\n",
       "      <td>2017</td>\n",
       "    </tr>\n",
       "    <tr>\n",
       "      <th>2</th>\n",
       "      <td>Une loi adoptée sous le Consulat a autorisé ...</td>\n",
       "      <td>2017-01-02</td>\n",
       "      <td>1</td>\n",
       "      <td>2017</td>\n",
       "    </tr>\n",
       "    <tr>\n",
       "      <th>3</th>\n",
       "      <td>Le fruit de la pomme de terre (dessin) est tox...</td>\n",
       "      <td>2017-01-02</td>\n",
       "      <td>1</td>\n",
       "      <td>2017</td>\n",
       "    </tr>\n",
       "    <tr>\n",
       "      <th>4</th>\n",
       "      <td>Le Paléolithique recouvre environ 95 % de la ...</td>\n",
       "      <td>2017-01-03</td>\n",
       "      <td>1</td>\n",
       "      <td>2017</td>\n",
       "    </tr>\n",
       "    <tr>\n",
       "      <th>...</th>\n",
       "      <td>...</td>\n",
       "      <td>...</td>\n",
       "      <td>...</td>\n",
       "      <td>...</td>\n",
       "    </tr>\n",
       "    <tr>\n",
       "      <th>4965</th>\n",
       "      <td>La rose 'Molineux' doit son nom au stade du Wo...</td>\n",
       "      <td>2021-12-03</td>\n",
       "      <td>12</td>\n",
       "      <td>2021</td>\n",
       "    </tr>\n",
       "    <tr>\n",
       "      <th>4966</th>\n",
       "      <td>En proposant « Du café pour tous » en 1977, M...</td>\n",
       "      <td>2021-12-04</td>\n",
       "      <td>12</td>\n",
       "      <td>2021</td>\n",
       "    </tr>\n",
       "    <tr>\n",
       "      <th>4967</th>\n",
       "      <td>Les expressions « une affaire pendante », « vi...</td>\n",
       "      <td>2021-12-04</td>\n",
       "      <td>12</td>\n",
       "      <td>2021</td>\n",
       "    </tr>\n",
       "    <tr>\n",
       "      <th>4968</th>\n",
       "      <td>En une année passée à la tête du ministèr...</td>\n",
       "      <td>2021-12-05</td>\n",
       "      <td>12</td>\n",
       "      <td>2021</td>\n",
       "    </tr>\n",
       "    <tr>\n",
       "      <th>4969</th>\n",
       "      <td>En 1957, Dax remporte le Challenge Yves du Man...</td>\n",
       "      <td>2021-12-05</td>\n",
       "      <td>12</td>\n",
       "      <td>2021</td>\n",
       "    </tr>\n",
       "  </tbody>\n",
       "</table>\n",
       "<p>4970 rows × 4 columns</p>\n",
       "</div>"
      ],
      "text/plain": [
       "                                                  quote       date  month  \\\n",
       "0     Aucun État ayant un programme autonome de vol... 2017-01-01      1   \n",
       "1     Le 1er janvier 1977, la Belgique a divisé par... 2017-01-01      1   \n",
       "2     Une loi adoptée sous le Consulat a autorisé ... 2017-01-02      1   \n",
       "3     Le fruit de la pomme de terre (dessin) est tox... 2017-01-02      1   \n",
       "4     Le Paléolithique recouvre environ 95 % de la ... 2017-01-03      1   \n",
       "...                                                 ...        ...    ...   \n",
       "4965  La rose 'Molineux' doit son nom au stade du Wo... 2021-12-03     12   \n",
       "4966  En proposant « Du café pour tous » en 1977, M... 2021-12-04     12   \n",
       "4967  Les expressions « une affaire pendante », « vi... 2021-12-04     12   \n",
       "4968  En une année passée à la tête du ministèr... 2021-12-05     12   \n",
       "4969  En 1957, Dax remporte le Challenge Yves du Man... 2021-12-05     12   \n",
       "\n",
       "      year  \n",
       "0     2017  \n",
       "1     2017  \n",
       "2     2017  \n",
       "3     2017  \n",
       "4     2017  \n",
       "...    ...  \n",
       "4965  2021  \n",
       "4966  2021  \n",
       "4967  2021  \n",
       "4968  2021  \n",
       "4969  2021  \n",
       "\n",
       "[4970 rows x 4 columns]"
      ]
     },
     "execution_count": 13,
     "metadata": {},
     "output_type": "execute_result"
    }
   ],
   "source": [
    "df_quotes_2017_2021.drop([\"quote_element\", \"date_element\", \"french_date\"], axis=1, inplace=True)\n",
    "\n",
    "df_quotes_2017_2021.to_csv(\"Wikiquotes.csv\", sep=\";\", index=False)\n",
    "\n",
    "df_quotes_2017_2021"
   ]
  },
  {
   "cell_type": "markdown",
   "metadata": {},
   "source": [
    "# **Statistics**\n",
    "Utilisez les fonctions ou propriétés de votre choix afin de répondre aux questions suivantes"
   ]
  },
  {
   "cell_type": "markdown",
   "metadata": {},
   "source": [
    "### Y a-t-il des lignes pour lesquelles certains champs sont vides ?\n",
    "Si oui, combien ?"
   ]
  },
  {
   "cell_type": "code",
   "execution_count": 14,
   "metadata": {},
   "outputs": [
    {
     "data": {
      "text/plain": [
       "False    4970\n",
       "Name: quote, dtype: int64"
      ]
     },
     "execution_count": 14,
     "metadata": {},
     "output_type": "execute_result"
    }
   ],
   "source": [
    "df_quotes_2017_2021.isna()[\"quote\"].value_counts()"
   ]
  },
  {
   "cell_type": "markdown",
   "metadata": {},
   "source": [
    "Non, il y'a aucune quote vide (Toutes les valeurs qui disent si quote est vide sont à False)"
   ]
  },
  {
   "cell_type": "markdown",
   "metadata": {},
   "source": [
    "### Quelle année contient le moins de quotes, et combien?"
   ]
  },
  {
   "cell_type": "code",
   "execution_count": 15,
   "metadata": {},
   "outputs": [
    {
     "data": {
      "text/plain": [
       "2019"
      ]
     },
     "execution_count": 15,
     "metadata": {},
     "output_type": "execute_result"
    }
   ],
   "source": [
    "quotes_count = df_quotes_2017_2021.groupby(\"year\").count()[\"quote\"]\n",
    "quotes_count.idxmin()"
   ]
  },
  {
   "cell_type": "markdown",
   "metadata": {},
   "source": [
    "### Quelle est la quote la plus longue?\n",
    "(En terme de nombre de caractères)"
   ]
  },
  {
   "cell_type": "code",
   "execution_count": 16,
   "metadata": {},
   "outputs": [
    {
     "data": {
      "text/plain": [
       "'Le prince de Talleyrand-Périgord fut évêque, député, président de l’Assemblée constituante de 1789, spéculateur et armateur, ministre de la marine et des colonies sous le Directoire, ministre des relations extérieures sous ce même régime puis sous l’Empire, grand chambellan de France sous deux régimes, prince-électeur impérial, président du gouvernement provisoire royaliste de 1814, ministre des Affaires étrangères sous la première Restauration, chef du gouvernement sous la seconde, trois fois ambassadeur, et enfin maire et conseiller général de l’Indre (caricature).'"
      ]
     },
     "execution_count": 16,
     "metadata": {},
     "output_type": "execute_result"
    }
   ],
   "source": [
    "df_quotes_2017_2021.iloc[df_quotes_2017_2021[\"quote\"].str.len().idxmax()][\"quote\"]"
   ]
  },
  {
   "cell_type": "markdown",
   "metadata": {},
   "source": [
    "### Quelle est la quote la plus courte?\n",
    "(En terme de nombre de caractères)"
   ]
  },
  {
   "cell_type": "code",
   "execution_count": 17,
   "metadata": {},
   "outputs": [
    {
     "data": {
      "text/plain": [
       "'Film en est un.'"
      ]
     },
     "execution_count": 17,
     "metadata": {},
     "output_type": "execute_result"
    }
   ],
   "source": [
    "df_quotes_2017_2021.iloc[df_quotes_2017_2021[\"quote\"].str.len().idxmin()][\"quote\"]"
   ]
  },
  {
   "cell_type": "markdown",
   "metadata": {},
   "source": [
    "### Combien de quotes contiennent `'Victor Hugo'` ?"
   ]
  },
  {
   "cell_type": "code",
   "execution_count": 18,
   "metadata": {},
   "outputs": [
    {
     "data": {
      "text/plain": [
       "16"
      ]
     },
     "execution_count": 18,
     "metadata": {},
     "output_type": "execute_result"
    }
   ],
   "source": [
    "df_quotes_2017_2021[\"quote\"].str.contains(\"Victor Hugo\").value_counts()[True]"
   ]
  },
  {
   "cell_type": "markdown",
   "metadata": {},
   "source": [
    "### J'ai entendu dire qu'il y avait une quote qui parlait de pokémon, laquelle est-ce ? (Affichez la quote complète)"
   ]
  },
  {
   "cell_type": "code",
   "execution_count": 19,
   "metadata": {},
   "outputs": [
    {
     "data": {
      "text/plain": [
       "'En mars 2017, un jeune Russe a été condamné à 3 ans et demi de colonie pénitentiaire pour avoir joué à Pokémon Go dans une église.'"
      ]
     },
     "execution_count": 19,
     "metadata": {},
     "output_type": "execute_result"
    }
   ],
   "source": [
    "# Remove the accents of the quote and transform it into lowercase\n",
    "df_quotes_2017_2021[\"normalized_quote\"] = df_quotes_2017_2021.quote.str.encode(\"ascii\", errors=\"ignore\").str.decode(\"utf-8\").str.lower()\n",
    "\n",
    "# Add a column that tells if the quote contains pokemon\n",
    "df_quotes_2017_2021[\"contains_pokemon\"] = df_quotes_2017_2021.normalized_quote.str.contains(\"pokemon\")\n",
    "\n",
    "df_quotes_2017_2021[df_quotes_2017_2021.contains_pokemon == True].iloc[0][\"quote\"]"
   ]
  },
  {
   "cell_type": "markdown",
   "metadata": {},
   "source": [
    "# **Visualisation**\n",
    "\n",
    "Affichez un graphe de votre choix pour visualiser les données, que vous jugez pertinent (par exemple un barplot, scatterplot, ou autre)"
   ]
  },
  {
   "cell_type": "code",
   "execution_count": 20,
   "metadata": {},
   "outputs": [
    {
     "data": {
      "application/vnd.plotly.v1+json": {
       "config": {
        "plotlyServerURL": "https://plot.ly"
       },
       "data": [
        {
         "alignmentgroup": "True",
         "hovertemplate": "variable=year<br>index=%{x}<br>value=%{y}<extra></extra>",
         "legendgroup": "year",
         "marker": {
          "color": "#636efa",
          "pattern": {
           "shape": ""
          }
         },
         "name": "year",
         "offsetgroup": "year",
         "orientation": "v",
         "showlegend": true,
         "textposition": "auto",
         "type": "bar",
         "x": [
          2017,
          2018,
          2019,
          2020,
          2021
         ],
         "xaxis": "x",
         "y": [
          850,
          1250,
          806,
          1218,
          846
         ],
         "yaxis": "y"
        }
       ],
       "layout": {
        "barmode": "relative",
        "legend": {
         "title": {
          "text": "variable"
         },
         "tracegroupgap": 0
        },
        "margin": {
         "t": 60
        },
        "template": {
         "data": {
          "bar": [
           {
            "error_x": {
             "color": "#2a3f5f"
            },
            "error_y": {
             "color": "#2a3f5f"
            },
            "marker": {
             "line": {
              "color": "#E5ECF6",
              "width": 0.5
             },
             "pattern": {
              "fillmode": "overlay",
              "size": 10,
              "solidity": 0.2
             }
            },
            "type": "bar"
           }
          ],
          "barpolar": [
           {
            "marker": {
             "line": {
              "color": "#E5ECF6",
              "width": 0.5
             },
             "pattern": {
              "fillmode": "overlay",
              "size": 10,
              "solidity": 0.2
             }
            },
            "type": "barpolar"
           }
          ],
          "carpet": [
           {
            "aaxis": {
             "endlinecolor": "#2a3f5f",
             "gridcolor": "white",
             "linecolor": "white",
             "minorgridcolor": "white",
             "startlinecolor": "#2a3f5f"
            },
            "baxis": {
             "endlinecolor": "#2a3f5f",
             "gridcolor": "white",
             "linecolor": "white",
             "minorgridcolor": "white",
             "startlinecolor": "#2a3f5f"
            },
            "type": "carpet"
           }
          ],
          "choropleth": [
           {
            "colorbar": {
             "outlinewidth": 0,
             "ticks": ""
            },
            "type": "choropleth"
           }
          ],
          "contour": [
           {
            "colorbar": {
             "outlinewidth": 0,
             "ticks": ""
            },
            "colorscale": [
             [
              0,
              "#0d0887"
             ],
             [
              0.1111111111111111,
              "#46039f"
             ],
             [
              0.2222222222222222,
              "#7201a8"
             ],
             [
              0.3333333333333333,
              "#9c179e"
             ],
             [
              0.4444444444444444,
              "#bd3786"
             ],
             [
              0.5555555555555556,
              "#d8576b"
             ],
             [
              0.6666666666666666,
              "#ed7953"
             ],
             [
              0.7777777777777778,
              "#fb9f3a"
             ],
             [
              0.8888888888888888,
              "#fdca26"
             ],
             [
              1,
              "#f0f921"
             ]
            ],
            "type": "contour"
           }
          ],
          "contourcarpet": [
           {
            "colorbar": {
             "outlinewidth": 0,
             "ticks": ""
            },
            "type": "contourcarpet"
           }
          ],
          "heatmap": [
           {
            "colorbar": {
             "outlinewidth": 0,
             "ticks": ""
            },
            "colorscale": [
             [
              0,
              "#0d0887"
             ],
             [
              0.1111111111111111,
              "#46039f"
             ],
             [
              0.2222222222222222,
              "#7201a8"
             ],
             [
              0.3333333333333333,
              "#9c179e"
             ],
             [
              0.4444444444444444,
              "#bd3786"
             ],
             [
              0.5555555555555556,
              "#d8576b"
             ],
             [
              0.6666666666666666,
              "#ed7953"
             ],
             [
              0.7777777777777778,
              "#fb9f3a"
             ],
             [
              0.8888888888888888,
              "#fdca26"
             ],
             [
              1,
              "#f0f921"
             ]
            ],
            "type": "heatmap"
           }
          ],
          "heatmapgl": [
           {
            "colorbar": {
             "outlinewidth": 0,
             "ticks": ""
            },
            "colorscale": [
             [
              0,
              "#0d0887"
             ],
             [
              0.1111111111111111,
              "#46039f"
             ],
             [
              0.2222222222222222,
              "#7201a8"
             ],
             [
              0.3333333333333333,
              "#9c179e"
             ],
             [
              0.4444444444444444,
              "#bd3786"
             ],
             [
              0.5555555555555556,
              "#d8576b"
             ],
             [
              0.6666666666666666,
              "#ed7953"
             ],
             [
              0.7777777777777778,
              "#fb9f3a"
             ],
             [
              0.8888888888888888,
              "#fdca26"
             ],
             [
              1,
              "#f0f921"
             ]
            ],
            "type": "heatmapgl"
           }
          ],
          "histogram": [
           {
            "marker": {
             "pattern": {
              "fillmode": "overlay",
              "size": 10,
              "solidity": 0.2
             }
            },
            "type": "histogram"
           }
          ],
          "histogram2d": [
           {
            "colorbar": {
             "outlinewidth": 0,
             "ticks": ""
            },
            "colorscale": [
             [
              0,
              "#0d0887"
             ],
             [
              0.1111111111111111,
              "#46039f"
             ],
             [
              0.2222222222222222,
              "#7201a8"
             ],
             [
              0.3333333333333333,
              "#9c179e"
             ],
             [
              0.4444444444444444,
              "#bd3786"
             ],
             [
              0.5555555555555556,
              "#d8576b"
             ],
             [
              0.6666666666666666,
              "#ed7953"
             ],
             [
              0.7777777777777778,
              "#fb9f3a"
             ],
             [
              0.8888888888888888,
              "#fdca26"
             ],
             [
              1,
              "#f0f921"
             ]
            ],
            "type": "histogram2d"
           }
          ],
          "histogram2dcontour": [
           {
            "colorbar": {
             "outlinewidth": 0,
             "ticks": ""
            },
            "colorscale": [
             [
              0,
              "#0d0887"
             ],
             [
              0.1111111111111111,
              "#46039f"
             ],
             [
              0.2222222222222222,
              "#7201a8"
             ],
             [
              0.3333333333333333,
              "#9c179e"
             ],
             [
              0.4444444444444444,
              "#bd3786"
             ],
             [
              0.5555555555555556,
              "#d8576b"
             ],
             [
              0.6666666666666666,
              "#ed7953"
             ],
             [
              0.7777777777777778,
              "#fb9f3a"
             ],
             [
              0.8888888888888888,
              "#fdca26"
             ],
             [
              1,
              "#f0f921"
             ]
            ],
            "type": "histogram2dcontour"
           }
          ],
          "mesh3d": [
           {
            "colorbar": {
             "outlinewidth": 0,
             "ticks": ""
            },
            "type": "mesh3d"
           }
          ],
          "parcoords": [
           {
            "line": {
             "colorbar": {
              "outlinewidth": 0,
              "ticks": ""
             }
            },
            "type": "parcoords"
           }
          ],
          "pie": [
           {
            "automargin": true,
            "type": "pie"
           }
          ],
          "scatter": [
           {
            "marker": {
             "colorbar": {
              "outlinewidth": 0,
              "ticks": ""
             }
            },
            "type": "scatter"
           }
          ],
          "scatter3d": [
           {
            "line": {
             "colorbar": {
              "outlinewidth": 0,
              "ticks": ""
             }
            },
            "marker": {
             "colorbar": {
              "outlinewidth": 0,
              "ticks": ""
             }
            },
            "type": "scatter3d"
           }
          ],
          "scattercarpet": [
           {
            "marker": {
             "colorbar": {
              "outlinewidth": 0,
              "ticks": ""
             }
            },
            "type": "scattercarpet"
           }
          ],
          "scattergeo": [
           {
            "marker": {
             "colorbar": {
              "outlinewidth": 0,
              "ticks": ""
             }
            },
            "type": "scattergeo"
           }
          ],
          "scattergl": [
           {
            "marker": {
             "colorbar": {
              "outlinewidth": 0,
              "ticks": ""
             }
            },
            "type": "scattergl"
           }
          ],
          "scattermapbox": [
           {
            "marker": {
             "colorbar": {
              "outlinewidth": 0,
              "ticks": ""
             }
            },
            "type": "scattermapbox"
           }
          ],
          "scatterpolar": [
           {
            "marker": {
             "colorbar": {
              "outlinewidth": 0,
              "ticks": ""
             }
            },
            "type": "scatterpolar"
           }
          ],
          "scatterpolargl": [
           {
            "marker": {
             "colorbar": {
              "outlinewidth": 0,
              "ticks": ""
             }
            },
            "type": "scatterpolargl"
           }
          ],
          "scatterternary": [
           {
            "marker": {
             "colorbar": {
              "outlinewidth": 0,
              "ticks": ""
             }
            },
            "type": "scatterternary"
           }
          ],
          "surface": [
           {
            "colorbar": {
             "outlinewidth": 0,
             "ticks": ""
            },
            "colorscale": [
             [
              0,
              "#0d0887"
             ],
             [
              0.1111111111111111,
              "#46039f"
             ],
             [
              0.2222222222222222,
              "#7201a8"
             ],
             [
              0.3333333333333333,
              "#9c179e"
             ],
             [
              0.4444444444444444,
              "#bd3786"
             ],
             [
              0.5555555555555556,
              "#d8576b"
             ],
             [
              0.6666666666666666,
              "#ed7953"
             ],
             [
              0.7777777777777778,
              "#fb9f3a"
             ],
             [
              0.8888888888888888,
              "#fdca26"
             ],
             [
              1,
              "#f0f921"
             ]
            ],
            "type": "surface"
           }
          ],
          "table": [
           {
            "cells": {
             "fill": {
              "color": "#EBF0F8"
             },
             "line": {
              "color": "white"
             }
            },
            "header": {
             "fill": {
              "color": "#C8D4E3"
             },
             "line": {
              "color": "white"
             }
            },
            "type": "table"
           }
          ]
         },
         "layout": {
          "annotationdefaults": {
           "arrowcolor": "#2a3f5f",
           "arrowhead": 0,
           "arrowwidth": 1
          },
          "autotypenumbers": "strict",
          "coloraxis": {
           "colorbar": {
            "outlinewidth": 0,
            "ticks": ""
           }
          },
          "colorscale": {
           "diverging": [
            [
             0,
             "#8e0152"
            ],
            [
             0.1,
             "#c51b7d"
            ],
            [
             0.2,
             "#de77ae"
            ],
            [
             0.3,
             "#f1b6da"
            ],
            [
             0.4,
             "#fde0ef"
            ],
            [
             0.5,
             "#f7f7f7"
            ],
            [
             0.6,
             "#e6f5d0"
            ],
            [
             0.7,
             "#b8e186"
            ],
            [
             0.8,
             "#7fbc41"
            ],
            [
             0.9,
             "#4d9221"
            ],
            [
             1,
             "#276419"
            ]
           ],
           "sequential": [
            [
             0,
             "#0d0887"
            ],
            [
             0.1111111111111111,
             "#46039f"
            ],
            [
             0.2222222222222222,
             "#7201a8"
            ],
            [
             0.3333333333333333,
             "#9c179e"
            ],
            [
             0.4444444444444444,
             "#bd3786"
            ],
            [
             0.5555555555555556,
             "#d8576b"
            ],
            [
             0.6666666666666666,
             "#ed7953"
            ],
            [
             0.7777777777777778,
             "#fb9f3a"
            ],
            [
             0.8888888888888888,
             "#fdca26"
            ],
            [
             1,
             "#f0f921"
            ]
           ],
           "sequentialminus": [
            [
             0,
             "#0d0887"
            ],
            [
             0.1111111111111111,
             "#46039f"
            ],
            [
             0.2222222222222222,
             "#7201a8"
            ],
            [
             0.3333333333333333,
             "#9c179e"
            ],
            [
             0.4444444444444444,
             "#bd3786"
            ],
            [
             0.5555555555555556,
             "#d8576b"
            ],
            [
             0.6666666666666666,
             "#ed7953"
            ],
            [
             0.7777777777777778,
             "#fb9f3a"
            ],
            [
             0.8888888888888888,
             "#fdca26"
            ],
            [
             1,
             "#f0f921"
            ]
           ]
          },
          "colorway": [
           "#636efa",
           "#EF553B",
           "#00cc96",
           "#ab63fa",
           "#FFA15A",
           "#19d3f3",
           "#FF6692",
           "#B6E880",
           "#FF97FF",
           "#FECB52"
          ],
          "font": {
           "color": "#2a3f5f"
          },
          "geo": {
           "bgcolor": "white",
           "lakecolor": "white",
           "landcolor": "#E5ECF6",
           "showlakes": true,
           "showland": true,
           "subunitcolor": "white"
          },
          "hoverlabel": {
           "align": "left"
          },
          "hovermode": "closest",
          "mapbox": {
           "style": "light"
          },
          "paper_bgcolor": "white",
          "plot_bgcolor": "#E5ECF6",
          "polar": {
           "angularaxis": {
            "gridcolor": "white",
            "linecolor": "white",
            "ticks": ""
           },
           "bgcolor": "#E5ECF6",
           "radialaxis": {
            "gridcolor": "white",
            "linecolor": "white",
            "ticks": ""
           }
          },
          "scene": {
           "xaxis": {
            "backgroundcolor": "#E5ECF6",
            "gridcolor": "white",
            "gridwidth": 2,
            "linecolor": "white",
            "showbackground": true,
            "ticks": "",
            "zerolinecolor": "white"
           },
           "yaxis": {
            "backgroundcolor": "#E5ECF6",
            "gridcolor": "white",
            "gridwidth": 2,
            "linecolor": "white",
            "showbackground": true,
            "ticks": "",
            "zerolinecolor": "white"
           },
           "zaxis": {
            "backgroundcolor": "#E5ECF6",
            "gridcolor": "white",
            "gridwidth": 2,
            "linecolor": "white",
            "showbackground": true,
            "ticks": "",
            "zerolinecolor": "white"
           }
          },
          "shapedefaults": {
           "line": {
            "color": "#2a3f5f"
           }
          },
          "ternary": {
           "aaxis": {
            "gridcolor": "white",
            "linecolor": "white",
            "ticks": ""
           },
           "baxis": {
            "gridcolor": "white",
            "linecolor": "white",
            "ticks": ""
           },
           "bgcolor": "#E5ECF6",
           "caxis": {
            "gridcolor": "white",
            "linecolor": "white",
            "ticks": ""
           }
          },
          "title": {
           "x": 0.05
          },
          "xaxis": {
           "automargin": true,
           "gridcolor": "white",
           "linecolor": "white",
           "ticks": "",
           "title": {
            "standoff": 15
           },
           "zerolinecolor": "white",
           "zerolinewidth": 2
          },
          "yaxis": {
           "automargin": true,
           "gridcolor": "white",
           "linecolor": "white",
           "ticks": "",
           "title": {
            "standoff": 15
           },
           "zerolinecolor": "white",
           "zerolinewidth": 2
          }
         }
        },
        "xaxis": {
         "anchor": "y",
         "domain": [
          0,
          1
         ],
         "title": {
          "text": "index"
         }
        },
        "yaxis": {
         "anchor": "x",
         "domain": [
          0,
          1
         ],
         "title": {
          "text": "value"
         }
        }
       }
      }
     },
     "metadata": {},
     "output_type": "display_data"
    }
   ],
   "source": [
    "px.bar(df_quotes_2017_2021.groupby(\"year\")[\"year\"].count())"
   ]
  }
 ],
 "metadata": {
  "interpreter": {
   "hash": "3f84543a61e911f338c6c6f587f40c964c68cb2346cd9803a953baf76bdb7ced"
  },
  "kernelspec": {
   "display_name": "Python 3.8.8 64-bit ('scraping-venv': venv)",
   "language": "python",
   "name": "python3"
  },
  "language_info": {
   "codemirror_mode": {
    "name": "ipython",
    "version": 3
   },
   "file_extension": ".py",
   "mimetype": "text/x-python",
   "name": "python",
   "nbconvert_exporter": "python",
   "pygments_lexer": "ipython3",
   "version": "3.8.8"
  },
  "orig_nbformat": 4
 },
 "nbformat": 4,
 "nbformat_minor": 2
}
