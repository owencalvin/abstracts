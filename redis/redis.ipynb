{
 "cells": [
  {
   "cell_type": "code",
   "execution_count": 6,
   "metadata": {},
   "outputs": [
    {
     "ename": "KeyboardInterrupt",
     "evalue": "",
     "output_type": "error",
     "traceback": [
      "\u001b[0;31m---------------------------------------------------------------------------\u001b[0m",
      "\u001b[0;31mKeyboardInterrupt\u001b[0m                         Traceback (most recent call last)",
      "\u001b[0;32m<ipython-input-6-61674446dfa9>\u001b[0m in \u001b[0;36m<module>\u001b[0;34m\u001b[0m\n\u001b[1;32m     74\u001b[0m                 \u001b[0mself\u001b[0m\u001b[0;34m.\u001b[0m\u001b[0mqueue\u001b[0m\u001b[0;34m.\u001b[0m\u001b[0mpush\u001b[0m\u001b[0;34m(\u001b[0m\u001b[0;34m\"end\"\u001b[0m\u001b[0;34m)\u001b[0m\u001b[0;34m\u001b[0m\u001b[0;34m\u001b[0m\u001b[0m\n\u001b[1;32m     75\u001b[0m \u001b[0;34m\u001b[0m\u001b[0m\n\u001b[0;32m---> 76\u001b[0;31m \u001b[0mclient\u001b[0m \u001b[0;34m=\u001b[0m \u001b[0mClient\u001b[0m\u001b[0;34m(\u001b[0m\u001b[0;34m)\u001b[0m\u001b[0;34m.\u001b[0m\u001b[0mconsumer\u001b[0m\u001b[0;34m(\u001b[0m\u001b[0;34m)\u001b[0m\u001b[0;34m\u001b[0m\u001b[0;34m\u001b[0m\u001b[0m\n\u001b[0m",
      "\u001b[0;32m<ipython-input-6-61674446dfa9>\u001b[0m in \u001b[0;36mconsumer\u001b[0;34m(self)\u001b[0m\n\u001b[1;32m     49\u001b[0m                 \u001b[0mcount\u001b[0m \u001b[0;34m=\u001b[0m \u001b[0;36m0\u001b[0m\u001b[0;34m\u001b[0m\u001b[0;34m\u001b[0m\u001b[0m\n\u001b[1;32m     50\u001b[0m                 \u001b[0;32mwhile\u001b[0m \u001b[0;32mTrue\u001b[0m\u001b[0;34m:\u001b[0m\u001b[0;34m\u001b[0m\u001b[0;34m\u001b[0m\u001b[0m\n\u001b[0;32m---> 51\u001b[0;31m                         \u001b[0mmessage\u001b[0m \u001b[0;34m=\u001b[0m \u001b[0mself\u001b[0m\u001b[0;34m.\u001b[0m\u001b[0mqueue\u001b[0m\u001b[0;34m.\u001b[0m\u001b[0mpop\u001b[0m\u001b[0;34m(\u001b[0m\u001b[0;34m)\u001b[0m\u001b[0;34m\u001b[0m\u001b[0;34m\u001b[0m\u001b[0m\n\u001b[0m\u001b[1;32m     52\u001b[0m                         \u001b[0mcount\u001b[0m \u001b[0;34m+=\u001b[0m \u001b[0;36m1\u001b[0m\u001b[0;34m\u001b[0m\u001b[0;34m\u001b[0m\u001b[0m\n\u001b[1;32m     53\u001b[0m                         \u001b[0;32mif\u001b[0m \u001b[0mmessage\u001b[0m \u001b[0;34m==\u001b[0m \u001b[0;34m\"end\"\u001b[0m\u001b[0;34m:\u001b[0m\u001b[0;34m\u001b[0m\u001b[0;34m\u001b[0m\u001b[0m\n",
      "\u001b[0;32m<ipython-input-6-61674446dfa9>\u001b[0m in \u001b[0;36mpop\u001b[0;34m(self)\u001b[0m\n\u001b[1;32m     32\u001b[0m                         \u001b[0;32mif\u001b[0m \u001b[0mmessage\u001b[0m\u001b[0;34m:\u001b[0m\u001b[0;34m\u001b[0m\u001b[0;34m\u001b[0m\u001b[0m\n\u001b[1;32m     33\u001b[0m                                 \u001b[0;32mbreak\u001b[0m\u001b[0;34m\u001b[0m\u001b[0;34m\u001b[0m\u001b[0m\n\u001b[0;32m---> 34\u001b[0;31m                         \u001b[0mtime\u001b[0m\u001b[0;34m.\u001b[0m\u001b[0msleep\u001b[0m\u001b[0;34m(\u001b[0m\u001b[0;36m0.001\u001b[0m\u001b[0;34m)\u001b[0m\u001b[0;34m\u001b[0m\u001b[0;34m\u001b[0m\u001b[0m\n\u001b[0m\u001b[1;32m     35\u001b[0m                 \u001b[0;32mreturn\u001b[0m \u001b[0mself\u001b[0m\u001b[0;34m.\u001b[0m\u001b[0mr\u001b[0m\u001b[0;34m.\u001b[0m\u001b[0mrpop\u001b[0m\u001b[0;34m(\u001b[0m\u001b[0;34m\"l\"\u001b[0m\u001b[0;34m)\u001b[0m\u001b[0;34m\u001b[0m\u001b[0;34m\u001b[0m\u001b[0m\n\u001b[1;32m     36\u001b[0m \u001b[0;34m\u001b[0m\u001b[0m\n",
      "\u001b[0;31mKeyboardInterrupt\u001b[0m: "
     ]
    }
   ],
   "source": [
    "import redis\n",
    "import time\n",
    "\n",
    "class RedisQueue:\n",
    "\tdef __init__(\n",
    "\t\tself,\n",
    "\t\thost: str = \"localhost\",\n",
    "\t\tport: int = 6379,\n",
    "\t\tdb: int = 0\n",
    "\t):\n",
    "\t\tself.r = redis.Redis(host=host, port=port, db=db)\n",
    "\t\tself.p = self.r.pubsub()\n",
    "\t\tself.p.subscribe(\"c\")\n",
    "\t\n",
    "\tdef push(self, data: str):\n",
    "\t\t\"\"\"\n",
    "\t\tpush data to list head in Redis\n",
    "\n",
    "\t\tpublish a message\n",
    "\t\t\"\"\"\n",
    "\t\tself.r.lpush(\"l\", data)\n",
    "\t\treturn self.r.publish(\"c\", data)\n",
    "\t\n",
    "\tdef pop(self):\n",
    "\t\t\"\"\"\n",
    "\t\tloop waiting for a message from Redis.\n",
    "\n",
    "\t\tpop data from list tail in Redis\n",
    "\t\t\"\"\"\n",
    "\t\twhile True:\n",
    "\t\t\tmessage = self.p.get_message()\n",
    "\t\t\tif message:\n",
    "\t\t\t\tbreak\n",
    "\t\t\ttime.sleep(0.001)\n",
    "\t\treturn self.r.rpop(\"l\")\n",
    "\n",
    "class Client:\n",
    "\tqueue = RedisQueue()\n",
    "\n",
    "\tdef consumer(self):\n",
    "\t\t\"\"\"\n",
    "\t\tloop receiving messages with queue.pop()\n",
    "\n",
    "\t\tevery consumer ends upon receiving an \"end\" message\n",
    "\n",
    "\t\tand prints the number of messages received\n",
    "\t\t\"\"\"\n",
    "\n",
    "\t\tcount = 0\n",
    "\t\twhile True:\n",
    "\t\t\tmessage = self.queue.pop()\n",
    "\t\t\tcount += 1\n",
    "\t\t\tif message == \"end\":\n",
    "\t\t\t\treturn count\n",
    "\t\n",
    "\tdef producer(self):\n",
    "\t\t\"\"\"\n",
    "\t\tloop sending messages with queue.push()\n",
    "\n",
    "\t\tevery producer sends 10000 messages\n",
    "\t\t\"\"\"\n",
    "\n",
    "\t\tfor i in range (1000):\n",
    "\t\t\tself.queue.push(str(i))\n",
    "\n",
    "\tdef terminator(self):\n",
    "\t\t\"\"\"\n",
    "\t\ta parameter in the (main) controls\n",
    "\n",
    "\t\tif it should send \"end\" messages in the end\n",
    "\n",
    "\t\tex: python producer.py -e 4\n",
    "\t\t\"\"\"\n",
    "\t\tself.queue.push(\"end\")\n",
    "\n",
    "# Client().consumer()\n",
    "# Client().producer()\n",
    "# Client().terminator()"
   ]
  }
 ],
 "metadata": {
  "interpreter": {
   "hash": "c630b349f7183e9a5f9274d889fc3e15c392ce12037771bccbc1917471fc634b"
  },
  "kernelspec": {
   "display_name": "Python 3.8.8 64-bit ('base': conda)",
   "language": "python",
   "name": "python3"
  },
  "language_info": {
   "codemirror_mode": {
    "name": "ipython",
    "version": 3
   },
   "file_extension": ".py",
   "mimetype": "text/x-python",
   "name": "python",
   "nbconvert_exporter": "python",
   "pygments_lexer": "ipython3",
   "version": "3.8.8"
  },
  "orig_nbformat": 4
 },
 "nbformat": 4,
 "nbformat_minor": 2
}
